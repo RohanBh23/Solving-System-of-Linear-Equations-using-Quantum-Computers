{
  "nbformat": 4,
  "nbformat_minor": 0,
  "metadata": {
    "colab": {
      "name": "HHL Algorithm by Rohan Bhatia",
      "provenance": [],
      "collapsed_sections": [],
      "include_colab_link": true
    },
    "kernelspec": {
      "name": "python3",
      "display_name": "Python 3"
    },
    "language_info": {
      "name": "python"
    }
  },
  "cells": [
    {
      "cell_type": "markdown",
      "metadata": {
        "id": "view-in-github",
        "colab_type": "text"
      },
      "source": [
        "<a href=\"https://colab.research.google.com/github/RohanBh23/Solving-System-of-Linear-Equations-using-Quantum-Computers/blob/main/HHL_Algorithm_by_Rohan_Bhatia.ipynb\" target=\"_parent\"><img src=\"https://colab.research.google.com/assets/colab-badge.svg\" alt=\"Open In Colab\"/></a>"
      ]
    },
    {
      "cell_type": "markdown",
      "metadata": {
        "id": "nBVViziRjneg"
      },
      "source": [
        "# **Solving system of linear equations using Quantum Computers**\n",
        "\n",
        "*Rohan Bhatia* \\\n",
        "*Delhi Technological University* \n"
      ]
    },
    {
      "cell_type": "code",
      "metadata": {
        "id": "_Fj-u6ZkjmHM"
      },
      "source": [
        "from qiskit import QuantumCircuit, transpile, Aer, IBMQ, execute\n",
        "from qiskit.visualization import plot_histogram\n",
        "from qiskit.tools.jupyter import *\n",
        "from qiskit.visualization import *\n",
        "from ibm_quantum_widgets import *\n",
        "import pandas as pd\n",
        "#import matplotlib as mpl\n",
        "from math import pi\n",
        "import numpy as np\n",
        "import matplotlib.pyplot as plt\n",
        "\n",
        "\n",
        "IBMQ.save_account('0c5f09afe94bb9159f65f3ae983bdad4fd4fe1ef0fe97a1f9167ffc44c733c5ccb21d848987d3c1796fc3a40e2143fc5f902ddb2526a3df548c3b0ea53cba38f')\n",
        "provider = IBMQ.load_account()"
      ],
      "execution_count": null,
      "outputs": []
    },
    {
      "cell_type": "markdown",
      "metadata": {
        "id": "IJSUTrE4jxIo"
      },
      "source": [
        "## **Solving set of 4 linear equations with HHL** \n",
        "\n",
        "A system of linear equations of the form; $A x = b$ is calculated by finding the inverse of matrix $A$\n",
        "$$x = A^{-1}b$$\n",
        "\n",
        "The matrix A has to be a Hermitian matrix, i.e. $A = A^\\dagger$\n",
        "\n",
        "In our example, for convineance $b$ is taken as the below matrix so that it can be easily created with 2 basic unitary (Hadamard) gates on 2 qubits.\n",
        "$$b = \\begin{bmatrix} 0.5 \\\\\n",
        "0.5\\\\\n",
        "0.5\\\\\n",
        "0.5\n",
        "\\end{bmatrix}$$\n",
        "\n",
        "\n",
        "$$|b\\rangle = \\frac{1}{2}|00\\rangle + \\frac{1}{2}|01\\rangle + \\frac{1}{2}|10\\rangle + \\frac{1}{2}|11\\rangle$$\n",
        "\n",
        "### **Initial state of Circuit**\n",
        "\n",
        "For solving a 4 equation system, 7 qubits are required; 4 to store the eigenvalues of the 4x4 $A$ matrix, 2 qubits to take the input $b$ and give the final output $x$, and 1 Ancilla qubit to facilitate controlled rotations. The Intital state of the circuit is given by -   \n",
        "\n",
        "$$|0\\rangle^A \\left(|0\\rangle^{\\otimes n}\\right)^M |0\\rangle^I$$\n",
        "\n",
        "Where superscripts $A$, $M$, $I$ represent $\\textbf{Ancillary register}$, $\\textbf{Matrix register}$ i.e. the register which will keep the eigenvalues of $A$, and $\\textbf{Input register}$ respectively."
      ]
    },
    {
      "cell_type": "code",
      "metadata": {
        "colab": {
          "base_uri": "https://localhost:8080/",
          "height": 272
        },
        "id": "Ham8b1LIjq_b",
        "outputId": "e58b1a49-22ff-49b8-84e7-7fac3f97a9c0"
      },
      "source": [
        "qc = QuantumCircuit(7, 2)\n",
        "\n",
        "# Input b in input registers (5,6)\n",
        "for i in range(5,7):\n",
        "    qc.h(i)\n",
        "    qc.barrier()\n",
        "    \n",
        "#Initially applying Hadamard gate on Main register (1,4)\n",
        "for i in range (1,5):\n",
        "    qc.h(i)\n",
        "\n",
        "qc.draw()"
      ],
      "execution_count": null,
      "outputs": [
        {
          "output_type": "execute_result",
          "data": {
            "text/html": [
              "<pre style=\"word-wrap: normal;white-space: pre;background: #fff0;line-height: 1.1;font-family: &quot;Courier New&quot;,Courier,monospace\">           ░       ░      \n",
              "q_0: ──────░───────░──────\n",
              "           ░       ░ ┌───┐\n",
              "q_1: ──────░───────░─┤ H ├\n",
              "           ░       ░ ├───┤\n",
              "q_2: ──────░───────░─┤ H ├\n",
              "           ░       ░ ├───┤\n",
              "q_3: ──────░───────░─┤ H ├\n",
              "           ░       ░ ├───┤\n",
              "q_4: ──────░───────░─┤ H ├\n",
              "     ┌───┐ ░       ░ └───┘\n",
              "q_5: ┤ H ├─░───────░──────\n",
              "     └───┘ ░ ┌───┐ ░      \n",
              "q_6: ──────░─┤ H ├─░──────\n",
              "           ░ └───┘ ░      \n",
              "c: 2/═════════════════════\n",
              "                          </pre>"
            ],
            "text/plain": [
              "           ░       ░      \n",
              "q_0: ──────░───────░──────\n",
              "           ░       ░ ┌───┐\n",
              "q_1: ──────░───────░─┤ H ├\n",
              "           ░       ░ ├───┤\n",
              "q_2: ──────░───────░─┤ H ├\n",
              "           ░       ░ ├───┤\n",
              "q_3: ──────░───────░─┤ H ├\n",
              "           ░       ░ ├───┤\n",
              "q_4: ──────░───────░─┤ H ├\n",
              "     ┌───┐ ░       ░ └───┘\n",
              "q_5: ┤ H ├─░───────░──────\n",
              "     └───┘ ░ ┌───┐ ░      \n",
              "q_6: ──────░─┤ H ├─░──────\n",
              "           ░ └───┘ ░      \n",
              "c: 2/═════════════════════\n",
              "                          "
            ]
          },
          "metadata": {
            "tags": []
          },
          "execution_count": 8
        }
      ]
    },
    {
      "cell_type": "markdown",
      "metadata": {
        "id": "aYCqLy6tkSDj"
      },
      "source": [
        "## **Quantum Phase Estimation**\n",
        "\n",
        "If there are $t$ qubits in Main Register, Let $T = 2^t$, Unitary gates $U^{2^i}$ are applied on $|b\\rangle$ sequentially and map the eigenvalues onto the Matrix register.\n",
        "$$U = \\Sigma_\\tau^{T-1} | \\tau \\rangle \\langle \\tau |^M \\otimes e^{iA t_0 \\tau /T} $$\n",
        "\n",
        "The unitary matrices thus would be $U^{2^1}$, $U^{2^2}$, $U^{2^3}$, $U^{2^4}$.\n",
        "\n",
        "Thus the Unitary gate in our system is of the form $e^{iAt}$ and the controlled gates applied will be $e^{iAt/16}$, $e^{iAt/8}$, $e^{iAt/4}$ and $e^{iAt/2}$. These operators have to be constructed from the basic operators provided by Qiskit."
      ]
    },
    {
      "cell_type": "code",
      "metadata": {
        "colab": {
          "base_uri": "https://localhost:8080/"
        },
        "id": "UagWt79DkO-K",
        "outputId": "74e6b6fe-d999-416a-b966-a4d16fc8889f"
      },
      "source": [
        "#Application of exp(iAt/16) operator constructed with basic gates\n",
        "qc.h(6)\n",
        "qc.ccx(1,5,6)\n",
        "qc.h(6)\n",
        "qc.cu3(0.196,-pi/2,pi/2,1,6) \n",
        "qc.cu3(pi/2,pi/2,-pi/2,1,6)\n",
        "qc.u1(0.379,1)\n",
        "\n",
        "qc.cu3(0.981,-pi/2,pi/2,1,5)\n",
        "qc.u1(0.589,1)\n",
        "qc.ccx(1,5,6)\n",
        "qc.cu3(0.196,-pi/2,pi/2,1,5)\n",
        "qc.ccx(1,5,6)\n",
        "qc.h(6)\n",
        "qc.ccx(1,5,6)\n",
        "qc.h(6)\n"
      ],
      "execution_count": null,
      "outputs": [
        {
          "output_type": "stream",
          "text": [
            "/usr/local/lib/python3.7/dist-packages/ipykernel_launcher.py:5: DeprecationWarning: The QuantumCircuit.cu3 method is deprecated as of 0.16.0. It will be removed no earlier than 3 months after the release date. You should use the QuantumCircuit.cu method instead, where cu3(ϴ,φ,λ) = cu(ϴ,φ,λ,0).\n",
            "  \"\"\"\n",
            "/usr/local/lib/python3.7/dist-packages/ipykernel_launcher.py:7: DeprecationWarning: The QuantumCircuit.u1 method is deprecated as of 0.16.0. It will be removed no earlier than 3 months after the release date. You should use the QuantumCircuit.p method instead, which acts identically.\n",
            "  import sys\n"
          ],
          "name": "stderr"
        },
        {
          "output_type": "execute_result",
          "data": {
            "text/plain": [
              "<qiskit.circuit.instructionset.InstructionSet at 0x7f80a939b150>"
            ]
          },
          "metadata": {
            "tags": []
          },
          "execution_count": 9
        }
      ]
    },
    {
      "cell_type": "code",
      "metadata": {
        "colab": {
          "base_uri": "https://localhost:8080/"
        },
        "id": "VpioSiaZkcIa",
        "outputId": "2a13a2ca-be4f-4d6c-f335-6a8ae29314a7"
      },
      "source": [
        "#Application of exp(iAt/8) operator\n",
        "qc.h(6)\n",
        "qc.ccx(2,5,6)\n",
        "qc.h(6)\n",
        "qc.cu3(1.963,-pi/2,pi/2,2,6) \n",
        "qc.cu3(pi/2,pi/2,-pi/2,2,6)\n",
        "qc.u1(1.115,2)\n",
        "\n",
        "qc.cu3(1.963,-pi/2,pi/2,2,5)\n",
        "qc.u1(2.615,2)\n",
        "qc.ccx(2,5,6)\n",
        "qc.cu3(0.178,-pi/2,pi/2,2,5)\n",
        "qc.ccx(2,5,6)\n",
        "qc.h(6)\n",
        "qc.ccx(2,5,6)\n",
        "qc.h(6)\n"
      ],
      "execution_count": null,
      "outputs": [
        {
          "output_type": "execute_result",
          "data": {
            "text/plain": [
              "<qiskit.circuit.instructionset.InstructionSet at 0x7f80a93b0050>"
            ]
          },
          "metadata": {
            "tags": []
          },
          "execution_count": 10
        }
      ]
    },
    {
      "cell_type": "code",
      "metadata": {
        "colab": {
          "base_uri": "https://localhost:8080/"
        },
        "id": "YFuFeO2Mkc34",
        "outputId": "00f9d450-75a6-4bd8-f3d2-bfd6b5a3c033"
      },
      "source": [
        "#Application of exp(iAt/4) operator\n",
        "qc.h(6)\n",
        "qc.ccx(3,5,6)\n",
        "qc.h(6)\n",
        "qc.cu3(-0.785,-pi/2,pi/2,3,6) \n",
        "qc.cu3(pi/2,pi/2,-pi/2,3,6)\n",
        "qc.u1(1.017,3)\n",
        "\n",
        "qc.cu3(3.927,-pi/2,pi/2,3,5)\n",
        "qc.u1(2.517,3)\n",
        "qc.ccx(3,5,6)\n",
        "qc.cu3(2.356,-pi/2,pi/2,3,5)\n",
        "qc.ccx(3,5,6)\n",
        "qc.h(6)\n",
        "qc.ccx(3,5,6)\n",
        "qc.h(6)\n"
      ],
      "execution_count": null,
      "outputs": [
        {
          "output_type": "execute_result",
          "data": {
            "text/plain": [
              "<qiskit.circuit.instructionset.InstructionSet at 0x7f80a93b3050>"
            ]
          },
          "metadata": {
            "tags": []
          },
          "execution_count": 11
        }
      ]
    },
    {
      "cell_type": "code",
      "metadata": {
        "colab": {
          "base_uri": "https://localhost:8080/"
        },
        "id": "2GKjUw6Ykjn_",
        "outputId": "2e542a41-121b-4ac5-856e-1cddbf82daa8"
      },
      "source": [
        "#Application of exp(iAt/2) operator\n",
        "qc.h(6)\n",
        "qc.ccx(4,5,6)\n",
        "qc.h(6)\n",
        "qc.cu3(-9.014*10**(-9),-pi/2,pi/2,4,6) \n",
        "qc.cu3(pi/2,pi/2,-pi/2,4,6)\n",
        "qc.u1(-0.750,4)\n",
        "\n",
        "qc.cu3(1.571,-pi/2,pi/2,4,5)\n",
        "qc.u1(0.750,4)\n",
        "qc.ccx(4,5,6)\n",
        "qc.cu3(-1.571,-pi/2,pi/2,4,5)\n",
        "qc.ccx(4,5,6)\n",
        "qc.h(6)\n",
        "qc.ccx(4,5,6)\n",
        "qc.h(6)\n"
      ],
      "execution_count": null,
      "outputs": [
        {
          "output_type": "execute_result",
          "data": {
            "text/plain": [
              "<qiskit.circuit.instructionset.InstructionSet at 0x7f80a93b3450>"
            ]
          },
          "metadata": {
            "tags": []
          },
          "execution_count": 12
        }
      ]
    },
    {
      "cell_type": "code",
      "metadata": {
        "colab": {
          "base_uri": "https://localhost:8080/"
        },
        "id": "Y7ZtHdhNknNg",
        "outputId": "48f39b43-9ba8-4192-851f-e00e30b9467a"
      },
      "source": [
        "#Applying Inverse Fourier Transform\n",
        "qc.h(1)\n",
        "qc.cu1(pi/2,2,1)\n",
        "qc.cu1(pi/4,3,1)\n",
        "qc.cu1(pi/8,4,1)\n",
        "qc.h(2)\n",
        "qc.cu1(pi/2,3,2)\n",
        "qc.cu1(pi/4,4,2)\n",
        "qc.h(3)\n",
        "qc.cu1(pi/2,4,3)\n",
        "qc.h(4)\n"
      ],
      "execution_count": null,
      "outputs": [
        {
          "output_type": "stream",
          "text": [
            "/usr/local/lib/python3.7/dist-packages/ipykernel_launcher.py:3: DeprecationWarning: The QuantumCircuit.cu1 method is deprecated as of 0.16.0. It will be removed no earlier than 3 months after the release date. You should use the QuantumCircuit.cp method instead, which acts identically.\n",
            "  This is separate from the ipykernel package so we can avoid doing imports until\n"
          ],
          "name": "stderr"
        },
        {
          "output_type": "execute_result",
          "data": {
            "text/plain": [
              "<qiskit.circuit.instructionset.InstructionSet at 0x7f80a93b38d0>"
            ]
          },
          "metadata": {
            "tags": []
          },
          "execution_count": 13
        }
      ]
    },
    {
      "cell_type": "markdown",
      "metadata": {
        "id": "QSND1sKfkxjG"
      },
      "source": [
        "Quantum Phase Estimation performs the mapping and gives a final state as - \n",
        "$$\\sum \\beta_j |u_j\\rangle ^I | \\frac{\\tilde{\\lambda_j}t_0}{2\\pi}\\rangle^M$$ where $\\tilde{\\lambda_j}s$ are the approxiamate eigenvalues of $A$, and $t_0$ is set equal to $2\\pi$.\n",
        "\n",
        "For convinience the input hermitian matrix $A$ is chosen as;\n",
        "$$A = \\frac{1}{4}\\begin{bmatrix} 15 & 9 & 5 & -3 \\\\  9 & 15 & 3 & -5 \\\\ 5 & 3 & 15 & -9 \\\\ -3 & -5 & -9 & 15 \\end{bmatrix}$$ as its Eigenvalues calculated from classical methods are known to be 1, 2, 4, 8, i.e. they are of the form $2^j$."
      ]
    },
    {
      "cell_type": "code",
      "metadata": {
        "colab": {
          "base_uri": "https://localhost:8080/"
        },
        "id": "88IrkehU5Opr",
        "outputId": "2da80f20-2daf-4e68-a885-8ad05c35e56f"
      },
      "source": [
        "A = [[15/4, 9/4 , 5/4, -3/4],\n",
        "     [9/4, 15/4 , 3/4, -5/4] ,\n",
        "     [5/4, 3/4, 15/4, -9/4] ,\n",
        "     [-3/4, -5/4, -9/4, 15/4]]\n",
        "\n",
        "#Classically calculating Eigenvalues and Eigenvectors of A\n",
        "evals, evecs = np.linalg.eigh(A)\n",
        "print(evals)\n",
        "print(evecs)"
      ],
      "execution_count": null,
      "outputs": [
        {
          "output_type": "stream",
          "text": [
            "[1. 2. 4. 8.]\n",
            "[[-0.5 -0.5  0.5 -0.5]\n",
            " [ 0.5  0.5  0.5 -0.5]\n",
            " [ 0.5 -0.5 -0.5 -0.5]\n",
            " [ 0.5 -0.5  0.5  0.5]]\n"
          ],
          "name": "stdout"
        }
      ]
    },
    {
      "cell_type": "code",
      "metadata": {
        "colab": {
          "base_uri": "https://localhost:8080/"
        },
        "id": "QyFdtiZXcUWd",
        "outputId": "f2bfc729-0247-4252-c685-1182e8f923ab"
      },
      "source": [
        "u1 = -2*evecs[2]\n",
        "u2 = 2*evecs[3]\n",
        "u3 = -2*evecs[0]\n",
        "u4 = -2*evecs[1]\n",
        "u = np.array([-2*evecs[2],  2*evecs[3], -2*evecs[0], 2*evecs[1]])\n",
        "for i in range(4):\n",
        "  print(u[i])"
      ],
      "execution_count": null,
      "outputs": [
        {
          "output_type": "stream",
          "text": [
            "[-1.  1.  1.  1.]\n",
            "[ 1. -1.  1.  1.]\n",
            "[ 1.  1. -1.  1.]\n",
            "[ 1.  1.  1. -1.]\n"
          ],
          "name": "stdout"
        }
      ]
    },
    {
      "cell_type": "markdown",
      "metadata": {
        "id": "LDFuUG9k7Oin"
      },
      "source": [
        "The Quantum Phase Estimation produces the state \n",
        "$$\\frac{1}{2}|0001\\rangle^M |u_1\\rangle + \\frac{1}{2}|0010\\rangle^M |u_2\\rangle + \\frac{1}{2}|0100\\rangle^M |u_3\\rangle + \\frac{1}{2}|1000\\rangle^M |u_4\\rangle$$\n",
        "where $\\frac{1}{2}|u_j\\rangle$ represent the eigenvectors of $A$\n",
        "$$|u_1\\rangle = -|00\\rangle +|01\\rangle + |10\\rangle +|11\\rangle$$\n",
        "$$|u_2\\rangle = +|00\\rangle -|01\\rangle + |10\\rangle +|11\\rangle$$\n",
        "$$|u_3\\rangle = +|00\\rangle +|01\\rangle - |10\\rangle +|11\\rangle$$\n",
        "$$|u_4\\rangle = +|00\\rangle +|01\\rangle + |10\\rangle -|11\\rangle$$"
      ]
    },
    {
      "cell_type": "markdown",
      "metadata": {
        "id": "Whw3jFb0k4U7"
      },
      "source": [
        "## **Controlled Rotation**\n",
        "\n",
        "A controlled rotation of the form $R_y(\\lambda^{-1})$ is done on the Ancillary qubit controlled by Matrix register. The controlled register later produces the required $\\lambda_j^{-1}$ values.\n",
        "\n",
        "The $R_Y$ gate is a basic gate that is represented by \n",
        "$$e^{-i\\frac{\\theta}{2}\\sigma_y} = \\begin{bmatrix}cos(\\theta/2) && -sin(\\theta/2) \\\\ sin(\\theta/2) && cos(\\theta/2)\\end{bmatrix}$$\n",
        "where $\\theta = cos^{-1}\\frac{C}{\\tilde{\\lambda_j}}$ and $C$ is the scaling factor.\n",
        "\n",
        "The operation of $R_y$ gives us the final state - \n",
        "$$\\Sigma\\beta_j |u_j\\rangle ^I |\\lambda_j\\rangle^M \\left( \\sqrt{1 - \\frac{C^2}{\\tilde{\\lambda_j^2}}}|0\\rangle + \\frac{C}{\\tilde{\\lambda_j}}|1\\rangle\\right)^A$$\n",
        "\n",
        "Here the prior knowledge of Eigenvalues of $A$ is utilized to design optimal $R_Y$ gates. C is set as $8\\pi/2^r$"
      ]
    },
    {
      "cell_type": "code",
      "metadata": {
        "colab": {
          "base_uri": "https://localhost:8080/"
        },
        "id": "xFlB9DXElDMJ",
        "outputId": "79c926a8-2e25-4a5b-978e-5731c1145af8"
      },
      "source": [
        "#Controlled-Ry operations\n",
        "qc.cu3(8*pi/2,0,0,1,0)\n",
        "qc.cu3(4*pi/2,0,0,2,0)\n",
        "qc.cu3(2*pi/2,0,0,3,0)\n",
        "qc.cu3(pi/2,0,0,4,0)\n"
      ],
      "execution_count": null,
      "outputs": [
        {
          "output_type": "execute_result",
          "data": {
            "text/plain": [
              "<qiskit.circuit.instructionset.InstructionSet at 0x7f80a9a5ebd0>"
            ]
          },
          "metadata": {
            "tags": []
          },
          "execution_count": 16
        }
      ]
    },
    {
      "cell_type": "markdown",
      "metadata": {
        "id": "mR-djwlxmEOJ"
      },
      "source": [
        "## **Inverse QPE and Measurement**\n",
        "\n",
        "Now the Inverse Quantum Phase Estimation is done to to set the matrix register back to $(\\left|0\\rangle^{\\otimes n}\\right)^M$ and the rest of the state is $$\\sum_{j=1}^{N}\\beta_j |u_j\\rangle ^I \\left( \\sqrt{1 - \\frac{C^2}{\\tilde{\\lambda_j^2}}}|0\\rangle + \\frac{C}{\\tilde{\\lambda_j}}|1\\rangle\\right)^A$$\n",
        "\n",
        "Next the coeffecient of state $|1\\rangle$ is selected in order to obtain $\\lambda_j^{-1}$ in the form of $$C\\sum_{j=1}^{N} \\frac{\\beta_j}{\\tilde{\\lambda_j}}|u_j\\rangle ^I$$.\n",
        "\n",
        "The desired inverse of the matrix $A$ can be written as $\\sum_{j} \\frac{1}{\\lambda_j} |u_{j}\\rangle \\langle u_{j}|$. Thus, $A^{-1}$ matches $$\\sum_{j=1}^{N} \\frac{\\beta_j}{\\tilde{\\lambda_j}}|u_j\\rangle ^I$$\n",
        "\n",
        "Here since $C=8\\pi/2^r$ and $\\lambda_j$ are exactly calculated by QPE as $2^j$, the final state of Ancilla register is $$\\frac{8\\pi}{2^r}\\sum_{j=1}^4 \\frac{1/2}{2^{j-1}}|u_j\\rangle$$"
      ]
    },
    {
      "cell_type": "code",
      "metadata": {
        "colab": {
          "base_uri": "https://localhost:8080/"
        },
        "id": "0w9KdE7Bks_k",
        "outputId": "2b83d1b9-7ea7-4e01-e19f-fd9f59f99e80"
      },
      "source": [
        "#Applying Quantum Fourier Transform\n",
        "qc.h(4)\n",
        "qc.cu1(-pi/2,4,3)\n",
        "qc.h(3)\n",
        "qc.cu1(-pi/4,4,2)\n",
        "qc.cu1(-pi/2,3,2)\n",
        "qc.h(2)\n",
        "qc.cu1(-pi/8,4,1)\n",
        "qc.cu1(-pi/4,3,1)\n",
        "qc.cu1(-pi/2,2,1)\n",
        "qc.h(1)"
      ],
      "execution_count": null,
      "outputs": [
        {
          "output_type": "execute_result",
          "data": {
            "text/plain": [
              "<qiskit.circuit.instructionset.InstructionSet at 0x7f80a93a8750>"
            ]
          },
          "metadata": {
            "tags": []
          },
          "execution_count": 17
        }
      ]
    },
    {
      "cell_type": "code",
      "metadata": {
        "colab": {
          "base_uri": "https://localhost:8080/"
        },
        "id": "tsiFMPuHmOBn",
        "outputId": "ff6ee1b7-001c-466b-915a-63877f42de47"
      },
      "source": [
        "#application of exp(-iAt/2) operator\n",
        "qc.h(6)\n",
        "qc.ccx(4,5,6)\n",
        "qc.h(6)\n",
        "qc.ccx(4,5,6)\n",
        "qc.cu3(-1.571,-pi/2,pi/2,4,5)\n",
        "qc.ccx(4,5,6)\n",
        "qc.u1(0.750,4)\n",
        "qc.cu3(1.571,-pi/2,pi/2,4,5)\n",
        "qc.u1(-0.750,4)\n",
        "qc.cu3(pi/2,pi/2,-pi/2,4,6)\n",
        "qc.cu3(-9.014*10**(-9),-pi/2,pi/2,4,6) \n",
        "qc.h(6)\n",
        "qc.ccx(4,5,6)\n",
        "qc.h(6)\n"
      ],
      "execution_count": null,
      "outputs": [
        {
          "output_type": "execute_result",
          "data": {
            "text/plain": [
              "<qiskit.circuit.instructionset.InstructionSet at 0x7f80a93a7410>"
            ]
          },
          "metadata": {
            "tags": []
          },
          "execution_count": 18
        }
      ]
    },
    {
      "cell_type": "code",
      "metadata": {
        "colab": {
          "base_uri": "https://localhost:8080/"
        },
        "id": "ydpO-KILmj1I",
        "outputId": "a7abdb6a-8c37-440e-d774-0f3894888d80"
      },
      "source": [
        "#application of exp(-iAt/4) operator\n",
        "\n",
        "qc.h(6)\n",
        "qc.ccx(3,5,6)\n",
        "qc.h(6)\n",
        "qc.ccx(3,5,6)\n",
        "qc.cu3(2.356,pi/2,-pi/2,3,5)\n",
        "qc.ccx(3,5,6)\n",
        "qc.u1(-2.517,3)\n",
        "qc.cu3(3.927,pi/2,-pi/2,3,5)\n",
        "qc.u1(-1.017,3)\n",
        "qc.cu3(pi/2,3*pi/2,-3*pi/2,3,6)\n",
        "qc.cu3(-0.785,pi/2,-pi/2,3,6)\n",
        "qc.h(6)\n",
        "qc.ccx(3,5,6)\n",
        "qc.h(6)\n"
      ],
      "execution_count": null,
      "outputs": [
        {
          "output_type": "execute_result",
          "data": {
            "text/plain": [
              "<qiskit.circuit.instructionset.InstructionSet at 0x7f80a93b0910>"
            ]
          },
          "metadata": {
            "tags": []
          },
          "execution_count": 19
        }
      ]
    },
    {
      "cell_type": "code",
      "metadata": {
        "colab": {
          "base_uri": "https://localhost:8080/"
        },
        "id": "vB8m-XHUmPLk",
        "outputId": "8a963f81-3d98-4b67-f47d-1a7188a77e92"
      },
      "source": [
        "#application of exp(-iAt/8) operator\n",
        "\n",
        "qc.h(6)\n",
        "qc.ccx(2,5,6)\n",
        "qc.h(6)\n",
        "qc.ccx(2,5,6)\n",
        "qc.cu3(0.178,pi/2,-pi/2,2,5)\n",
        "qc.ccx(2,5,6)\n",
        "qc.u1(-2.615,2)\n",
        "qc.cu3(1.963,pi/2,-pi/2,2,5)\n",
        "qc.u1(-1.115,2)\n",
        "qc.cu3(pi/2,3*pi/2,-3*pi/2,2,6)\n",
        "qc.cu3(1.963,pi/2,-pi/2,2,6)\n",
        "qc.h(6)\n",
        "qc.ccx(2,5,6)\n",
        "qc.h(6)\n"
      ],
      "execution_count": null,
      "outputs": [
        {
          "output_type": "execute_result",
          "data": {
            "text/plain": [
              "<qiskit.circuit.instructionset.InstructionSet at 0x7f80a939bbd0>"
            ]
          },
          "metadata": {
            "tags": []
          },
          "execution_count": 20
        }
      ]
    },
    {
      "cell_type": "code",
      "metadata": {
        "colab": {
          "base_uri": "https://localhost:8080/",
          "height": 1000
        },
        "id": "BHcnc-4Rk_y5",
        "outputId": "afbc9b70-1cb5-4423-dbf2-a55c7a102307"
      },
      "source": [
        "#Applying exp(-iAt/16) operator\n",
        "qc.h(6)\n",
        "qc.ccx(1,5,6)\n",
        "qc.h(6)\n",
        "qc.ccx(1,5,6)\n",
        "qc.cu3(0.196,pi/2,-pi/2,1,5)\n",
        "qc.ccx(1,5,6)\n",
        "qc.u1(0.589,1)\n",
        "qc.cu3(0.981,pi/2,-pi/2,1,5)\n",
        "qc.u1(0.379,1)\n",
        "qc.cu3(pi/2,3*pi/2,-3*pi/2,1,6)\n",
        "qc.cu3(0.196,pi/2,-pi/2,1,6)\n",
        "qc.h(6)\n",
        "qc.ccx(1,5,6)\n",
        "qc.h(6)\n",
        "\n",
        "meas = qc.measure([5,6], [0,1])\n",
        "backend = Aer.get_backend(\"qasm_simulator\")\n",
        "# execute circuit\n",
        "result = execute(qc, backend, shots=1024).result()\n",
        "counts = result.get_counts(qc)\n",
        "qc.draw()\n"
      ],
      "execution_count": null,
      "outputs": [
        {
          "output_type": "execute_result",
          "data": {
            "text/html": [
              "<pre style=\"word-wrap: normal;white-space: pre;background: #fff0;line-height: 1.1;font-family: &quot;Courier New&quot;,Courier,monospace\">           ░       ░                                                          »\n",
              "q_0: ──────░───────░──────────────────────────────────────────────────────────»\n",
              "           ░       ░ ┌───┐                                                    »\n",
              "q_1: ──────░───────░─┤ H ├──■─────────────────■────────────────────■──────────»\n",
              "           ░       ░ ├───┤  │                 │                    │          »\n",
              "q_2: ──────░───────░─┤ H ├──┼─────────────────┼────────────────────┼──────────»\n",
              "           ░       ░ ├───┤  │                 │                    │          »\n",
              "q_3: ──────░───────░─┤ H ├──┼─────────────────┼────────────────────┼──────────»\n",
              "           ░       ░ ├───┤  │                 │                    │          »\n",
              "q_4: ──────░───────░─┤ H ├──┼─────────────────┼────────────────────┼──────────»\n",
              "     ┌───┐ ░       ░ └───┘  │                 │                    │          »\n",
              "q_5: ┤ H ├─░───────░────────■─────────────────┼────────────────────┼──────────»\n",
              "     └───┘ ░ ┌───┐ ░ ┌───┐┌─┴─┐┌───┐┌─────────┴──────────┐┌────────┴─────────┐»\n",
              "q_6: ──────░─┤ H ├─░─┤ H ├┤ X ├┤ H ├┤ U3(0.196,-π/2,π/2) ├┤ U3(π/2,π/2,-π/2) ├»\n",
              "           ░ └───┘ ░ └───┘└───┘└───┘└────────────────────┘└──────────────────┘»\n",
              "c: 2/═════════════════════════════════════════════════════════════════════════»\n",
              "                                                                              »\n",
              "«                                                          »\n",
              "«q_0: ─────────────────────────────────────────────────────»\n",
              "«     ┌───────────┐                      ┌───────────┐     »\n",
              "«q_1: ┤ U1(0.379) ├──────────■───────────┤ U1(0.589) ├──■──»\n",
              "«     └───────────┘          │           └───────────┘  │  »\n",
              "«q_2: ───────────────────────┼──────────────────────────┼──»\n",
              "«                            │                          │  »\n",
              "«q_3: ───────────────────────┼──────────────────────────┼──»\n",
              "«                            │                          │  »\n",
              "«q_4: ───────────────────────┼──────────────────────────┼──»\n",
              "«                  ┌─────────┴──────────┐               │  »\n",
              "«q_5: ─────────────┤ U3(0.981,-π/2,π/2) ├───────────────■──»\n",
              "«                  └────────────────────┘             ┌─┴─┐»\n",
              "«q_6: ────────────────────────────────────────────────┤ X ├»\n",
              "«                                                     └───┘»\n",
              "«c: 2/═════════════════════════════════════════════════════»\n",
              "«                                                          »\n",
              "«                                                              »\n",
              "«q_0: ─────────────────────────────────────────────────────────»\n",
              "«                                          ┌───┐               »\n",
              "«q_1: ──────────■─────────────■─────────■──┤ H ├───────────────»\n",
              "«               │             │         │  └───┘               »\n",
              "«q_2: ──────────┼─────────────┼─────────┼──────────────■───────»\n",
              "«               │             │         │              │       »\n",
              "«q_3: ──────────┼─────────────┼─────────┼──────────────┼───────»\n",
              "«               │             │         │              │       »\n",
              "«q_4: ──────────┼─────────────┼─────────┼──────────────┼───────»\n",
              "«     ┌─────────┴──────────┐  │         │              │       »\n",
              "«q_5: ┤ U3(0.196,-π/2,π/2) ├──■─────────■──────────────■───────»\n",
              "«     └────────────────────┘┌─┴─┐┌───┐┌─┴─┐┌───┐┌───┐┌─┴─┐┌───┐»\n",
              "«q_6: ──────────────────────┤ X ├┤ H ├┤ X ├┤ H ├┤ H ├┤ X ├┤ H ├»\n",
              "«                           └───┘└───┘└───┘└───┘└───┘└───┘└───┘»\n",
              "«c: 2/═════════════════════════════════════════════════════════»\n",
              "«                                                              »\n",
              "«                                                            »\n",
              "«q_0: ───────────────────────────────────────────────────────»\n",
              "«                                                            »\n",
              "«q_1: ───────────────────────────────────────────────────────»\n",
              "«                                               ┌───────────┐»\n",
              "«q_2: ──────────■────────────────────■──────────┤ U1(1.115) ├»\n",
              "«               │                    │          └───────────┘»\n",
              "«q_3: ──────────┼────────────────────┼───────────────────────»\n",
              "«               │                    │                       »\n",
              "«q_4: ──────────┼────────────────────┼───────────────────────»\n",
              "«               │                    │                       »\n",
              "«q_5: ──────────┼────────────────────┼───────────────────────»\n",
              "«     ┌─────────┴──────────┐┌────────┴─────────┐             »\n",
              "«q_6: ┤ U3(1.963,-π/2,π/2) ├┤ U3(π/2,π/2,-π/2) ├─────────────»\n",
              "«     └────────────────────┘└──────────────────┘             »\n",
              "«c: 2/═══════════════════════════════════════════════════════»\n",
              "«                                                            »\n",
              "«                                                                             »\n",
              "«q_0: ────────────────────────────────────────────────────────────────────────»\n",
              "«                                                                             »\n",
              "«q_1: ────────────────────────────────────────────────────────────────────────»\n",
              "«                           ┌───────────┐                                     »\n",
              "«q_2: ──────────■───────────┤ U1(2.615) ├──■────────────■─────────────■───────»\n",
              "«               │           └───────────┘  │            │             │       »\n",
              "«q_3: ──────────┼──────────────────────────┼────────────┼─────────────┼───────»\n",
              "«               │                          │            │             │       »\n",
              "«q_4: ──────────┼──────────────────────────┼────────────┼─────────────┼───────»\n",
              "«     ┌─────────┴──────────┐               │  ┌─────────┴──────────┐  │       »\n",
              "«q_5: ┤ U3(1.963,-π/2,π/2) ├───────────────■──┤ U3(0.178,-π/2,π/2) ├──■───────»\n",
              "«     └────────────────────┘             ┌─┴─┐└────────────────────┘┌─┴─┐┌───┐»\n",
              "«q_6: ───────────────────────────────────┤ X ├──────────────────────┤ X ├┤ H ├»\n",
              "«                                        └───┘                      └───┘└───┘»\n",
              "«c: 2/════════════════════════════════════════════════════════════════════════»\n",
              "«                                                                             »\n",
              "«                                                                              »\n",
              "«q_0: ─────────────────────────────────────────────────────────────────────────»\n",
              "«                                                                              »\n",
              "«q_1: ──────■──────────────────────────────────────────────────────────────────»\n",
              "«           │U1(π/2) ┌───┐                                                     »\n",
              "«q_2: ──■───■────────┤ H ├─────────────────────────────────────────────────────»\n",
              "«       │            └───┘                                                     »\n",
              "«q_3: ──┼───────────────────■──────────────────■────────────────────■──────────»\n",
              "«       │                   │                  │                    │          »\n",
              "«q_4: ──┼───────────────────┼──────────────────┼────────────────────┼──────────»\n",
              "«       │                   │                  │                    │          »\n",
              "«q_5: ──■───────────────────■──────────────────┼────────────────────┼──────────»\n",
              "«     ┌─┴─┐  ┌───┐   ┌───┐┌─┴─┐┌───┐┌──────────┴──────────┐┌────────┴─────────┐»\n",
              "«q_6: ┤ X ├──┤ H ├───┤ H ├┤ X ├┤ H ├┤ U3(-0.785,-π/2,π/2) ├┤ U3(π/2,π/2,-π/2) ├»\n",
              "«     └───┘  └───┘   └───┘└───┘└───┘└─────────────────────┘└──────────────────┘»\n",
              "«c: 2/═════════════════════════════════════════════════════════════════════════»\n",
              "«                                                                              »\n",
              "«                                                          »\n",
              "«q_0: ─────────────────────────────────────────────────────»\n",
              "«                                                          »\n",
              "«q_1: ─────────────────────────────────────────────────────»\n",
              "«                                                          »\n",
              "«q_2: ─────────────────────────────────────────────────────»\n",
              "«     ┌───────────┐                      ┌───────────┐     »\n",
              "«q_3: ┤ U1(1.017) ├──────────■───────────┤ U1(2.517) ├──■──»\n",
              "«     └───────────┘          │           └───────────┘  │  »\n",
              "«q_4: ───────────────────────┼──────────────────────────┼──»\n",
              "«                  ┌─────────┴──────────┐               │  »\n",
              "«q_5: ─────────────┤ U3(3.927,-π/2,π/2) ├───────────────■──»\n",
              "«                  └────────────────────┘             ┌─┴─┐»\n",
              "«q_6: ────────────────────────────────────────────────┤ X ├»\n",
              "«                                                     └───┘»\n",
              "«c: 2/═════════════════════════════════════════════════════»\n",
              "«                                                          »\n",
              "«                                                                        »\n",
              "«q_0: ───────────────────────────────────────────────────────────────────»\n",
              "«                                                                        »\n",
              "«q_1: ──────────────────────────────────────■────────────────────────────»\n",
              "«                                           │                            »\n",
              "«q_2: ──────────────────────────────────────┼─────────■──────────────────»\n",
              "«                                           │U1(π/4)  │U1(π/2) ┌───┐     »\n",
              "«q_3: ──────────■─────────────■─────────■───■─────────■────────┤ H ├─────»\n",
              "«               │             │         │                      └───┘     »\n",
              "«q_4: ──────────┼─────────────┼─────────┼────────────────────────■───────»\n",
              "«     ┌─────────┴──────────┐  │         │                        │       »\n",
              "«q_5: ┤ U3(2.356,-π/2,π/2) ├──■─────────■────────────────────────■───────»\n",
              "«     └────────────────────┘┌─┴─┐┌───┐┌─┴─┐  ┌───┐     ┌───┐   ┌─┴─┐┌───┐»\n",
              "«q_6: ──────────────────────┤ X ├┤ H ├┤ X ├──┤ H ├─────┤ H ├───┤ X ├┤ H ├»\n",
              "«                           └───┘└───┘└───┘  └───┘     └───┘   └───┘└───┘»\n",
              "«c: 2/═══════════════════════════════════════════════════════════════════»\n",
              "«                                                                        »\n",
              "«                                                                 »\n",
              "«q_0: ────────────────────────────────────────────────────────────»\n",
              "«                                                                 »\n",
              "«q_1: ────────────────────────────────────────────────────────────»\n",
              "«                                                                 »\n",
              "«q_2: ────────────────────────────────────────────────────────────»\n",
              "«                                                                 »\n",
              "«q_3: ────────────────────────────────────────────────────────────»\n",
              "«                                                    ┌───────────┐»\n",
              "«q_4: ─────────────■──────────────────────■──────────┤ U1(-0.75) ├»\n",
              "«                  │                      │          └───────────┘»\n",
              "«q_5: ─────────────┼──────────────────────┼───────────────────────»\n",
              "«     ┌────────────┴────────────┐┌────────┴─────────┐             »\n",
              "«q_6: ┤ U3(-9.014e-09,-π/2,π/2) ├┤ U3(π/2,π/2,-π/2) ├─────────────»\n",
              "«     └─────────────────────────┘└──────────────────┘             »\n",
              "«c: 2/════════════════════════════════════════════════════════════»\n",
              "«                                                                 »\n",
              "«                                                                             »\n",
              "«q_0: ────────────────────────────────────────────────────────────────────────»\n",
              "«                                                                             »\n",
              "«q_1: ────────────────────────────────────────────────────────────────────────»\n",
              "«                                                                             »\n",
              "«q_2: ────────────────────────────────────────────────────────────────────────»\n",
              "«                                                                             »\n",
              "«q_3: ────────────────────────────────────────────────────────────────────────»\n",
              "«                           ┌──────────┐                                      »\n",
              "«q_4: ──────────■───────────┤ U1(0.75) ├──■─────────────■─────────────■───────»\n",
              "«     ┌─────────┴──────────┐└──────────┘  │  ┌──────────┴──────────┐  │       »\n",
              "«q_5: ┤ U3(1.571,-π/2,π/2) ├──────────────■──┤ U3(-1.571,-π/2,π/2) ├──■───────»\n",
              "«     └────────────────────┘            ┌─┴─┐└─────────────────────┘┌─┴─┐┌───┐»\n",
              "«q_6: ──────────────────────────────────┤ X ├───────────────────────┤ X ├┤ H ├»\n",
              "«                                       └───┘                       └───┘└───┘»\n",
              "«c: 2/════════════════════════════════════════════════════════════════════════»\n",
              "«                                                                             »\n",
              "«                    ┌────────────┐┌────────────┐┌───────────┐┌─────────────┐»\n",
              "«q_0: ───────────────┤ U3(4π,0,0) ├┤ U3(2π,0,0) ├┤ U3(π,0,0) ├┤ U3(π/2,0,0) ├»\n",
              "«                    └─────┬──────┘└─────┬──────┘└─────┬─────┘└──────┬──────┘»\n",
              "«q_1: ──────■──────────────■─────────────┼─────────────┼─────────────┼───────»\n",
              "«           │                            │             │             │       »\n",
              "«q_2: ──────┼───────────■────────────────■─────────────┼─────────────┼───────»\n",
              "«           │           │                              │             │       »\n",
              "«q_3: ──────┼───────────┼─────────────■────────────────■─────────────┼───────»\n",
              "«           │U1(π/8)    │U1(π/4)      │U1(π/2)       ┌───┐           │       »\n",
              "«q_4: ──■───■───────────■─────────────■──────────────┤ H ├───────────■───────»\n",
              "«       │                                            └───┘                   »\n",
              "«q_5: ──■────────────────────────────────────────────────────────────────────»\n",
              "«     ┌─┴─┐  ┌───┐       ┌───┐                                               »\n",
              "«q_6: ┤ X ├──┤ H ├───────┤ H ├───────────────────────────────────────────────»\n",
              "«     └───┘  └───┘       └───┘                                               »\n",
              "«c: 2/═══════════════════════════════════════════════════════════════════════»\n",
              "«                                                                            »\n",
              "«                                                                           »\n",
              "«q_0: ──────────────────────────────────────────────────────────────────────»\n",
              "«                                                                           »\n",
              "«q_1: ────────────────────────────────────────────■───────────────■─────────»\n",
              "«                                                 │         ┌───┐ │         »\n",
              "«q_2: ──────────────────────■──────────■──────────┼─────────┤ H ├─┼─────────»\n",
              "«                     ┌───┐ │          │U1(-π/2)  │         └───┘ │U1(-π/4) »\n",
              "«q_3: ──────■─────────┤ H ├─┼──────────■──────────┼───────────────■─────────»\n",
              "«     ┌───┐ │U1(-π/2) └───┘ │U1(-π/4)             │U1(-π/8)                 »\n",
              "«q_4: ┤ H ├─■───────────────■─────────────────────■───────────■─────────────»\n",
              "«     └───┘                                                   │             »\n",
              "«q_5: ────────────────────────────────────────────────────────■─────────────»\n",
              "«                                                           ┌─┴─┐   ┌───┐   »\n",
              "«q_6: ──────────────────────────────────────────────────────┤ X ├───┤ H ├───»\n",
              "«                                                           └───┘   └───┘   »\n",
              "«c: 2/══════════════════════════════════════════════════════════════════════»\n",
              "«                                                                           »\n",
              "«                                                                              »\n",
              "«q_0: ─────────────────────────────────────────────────────────────────────────»\n",
              "«                         ┌───┐                                                »\n",
              "«q_1: ─■──────────────────┤ H ├────────────────────────────────────────────────»\n",
              "«      │U1(-π/2)          └───┘                                                »\n",
              "«q_2: ─■───────────────────────────────────────────────────────────────────────»\n",
              "«                                                                              »\n",
              "«q_3: ─────────────────────────────────────────────────────────────────────────»\n",
              "«                                            ┌──────────┐                      »\n",
              "«q_4: ─────■────────────────■─────────────■──┤ U1(0.75) ├──────────■───────────»\n",
              "«          │     ┌──────────┴──────────┐  │  └──────────┘┌─────────┴──────────┐»\n",
              "«q_5: ─────■─────┤ U3(-1.571,-π/2,π/2) ├──■──────────────┤ U3(1.571,-π/2,π/2) ├»\n",
              "«        ┌─┴─┐   └─────────────────────┘┌─┴─┐            └────────────────────┘»\n",
              "«q_6: ───┤ X ├──────────────────────────┤ X ├──────────────────────────────────»\n",
              "«        └───┘                          └───┘                                  »\n",
              "«c: 2/═════════════════════════════════════════════════════════════════════════»\n",
              "«                                                                              »\n",
              "«                                                                           »\n",
              "«q_0: ──────────────────────────────────────────────────────────────────────»\n",
              "«                                                                           »\n",
              "«q_1: ──────────────────────────────────────────────────────────────────────»\n",
              "«                                                                           »\n",
              "«q_2: ──────────────────────────────────────────────────────────────────────»\n",
              "«                                                                           »\n",
              "«q_3: ──────────────────────────────────────────────────────────────────────»\n",
              "«     ┌───────────┐                                                         »\n",
              "«q_4: ┤ U1(-0.75) ├─────────■───────────────────────■────────────────────■──»\n",
              "«     └───────────┘         │                       │                    │  »\n",
              "«q_5: ──────────────────────┼───────────────────────┼────────────────────■──»\n",
              "«                  ┌────────┴─────────┐┌────────────┴────────────┐┌───┐┌─┴─┐»\n",
              "«q_6: ─────────────┤ U3(π/2,π/2,-π/2) ├┤ U3(-9.014e-09,-π/2,π/2) ├┤ H ├┤ X ├»\n",
              "«                  └──────────────────┘└─────────────────────────┘└───┘└───┘»\n",
              "«c: 2/══════════════════════════════════════════════════════════════════════»\n",
              "«                                                                           »\n",
              "«                                                                       »\n",
              "«q_0: ──────────────────────────────────────────────────────────────────»\n",
              "«                                                                       »\n",
              "«q_1: ──────────────────────────────────────────────────────────────────»\n",
              "«                                                                       »\n",
              "«q_2: ──────────────────────────────────────────────────────────────────»\n",
              "«                                                         ┌────────────┐»\n",
              "«q_3: ────────────■─────────■────────────■─────────────■──┤ U1(-2.517) ├»\n",
              "«                 │         │            │             │  └────────────┘»\n",
              "«q_4: ────────────┼─────────┼────────────┼─────────────┼────────────────»\n",
              "«                 │         │  ┌─────────┴──────────┐  │                »\n",
              "«q_5: ────────────■─────────■──┤ U3(2.356,π/2,-π/2) ├──■────────────────»\n",
              "«     ┌───┐┌───┐┌─┴─┐┌───┐┌─┴─┐└────────────────────┘┌─┴─┐              »\n",
              "«q_6: ┤ H ├┤ H ├┤ X ├┤ H ├┤ X ├──────────────────────┤ X ├──────────────»\n",
              "«     └───┘└───┘└───┘└───┘└───┘                      └───┘              »\n",
              "«c: 2/══════════════════════════════════════════════════════════════════»\n",
              "«                                                                       »\n",
              "«                                                               »\n",
              "«q_0: ──────────────────────────────────────────────────────────»\n",
              "«                                                               »\n",
              "«q_1: ──────────────────────────────────────────────────────────»\n",
              "«                                                               »\n",
              "«q_2: ──────────────────────────────────────────────────────────»\n",
              "«                           ┌────────────┐                      »\n",
              "«q_3: ──────────■───────────┤ U1(-1.017) ├──────────■───────────»\n",
              "«               │           └────────────┘          │           »\n",
              "«q_4: ──────────┼───────────────────────────────────┼───────────»\n",
              "«     ┌─────────┴──────────┐                        │           »\n",
              "«q_5: ┤ U3(3.927,π/2,-π/2) ├────────────────────────┼───────────»\n",
              "«     └────────────────────┘              ┌─────────┴──────────┐»\n",
              "«q_6: ────────────────────────────────────┤ U3(π/2,3π/2,-3π/2) ├»\n",
              "«                                         └────────────────────┘»\n",
              "«c: 2/══════════════════════════════════════════════════════════»\n",
              "«                                                               »\n",
              "«                                                               »\n",
              "«q_0: ──────────────────────────────────────────────────────────»\n",
              "«                                                               »\n",
              "«q_1: ──────────────────────────────────────────────────────────»\n",
              "«                                                               »\n",
              "«q_2: ─────────────────────────────────────────────■─────────■──»\n",
              "«                                                  │         │  »\n",
              "«q_3: ───────────■──────────────────■──────────────┼─────────┼──»\n",
              "«                │                  │              │         │  »\n",
              "«q_4: ───────────┼──────────────────┼──────────────┼─────────┼──»\n",
              "«                │                  │              │         │  »\n",
              "«q_5: ───────────┼──────────────────■──────────────■─────────■──»\n",
              "«     ┌──────────┴──────────┐┌───┐┌─┴─┐┌───┐┌───┐┌─┴─┐┌───┐┌─┴─┐»\n",
              "«q_6: ┤ U3(-0.785,π/2,-π/2) ├┤ H ├┤ X ├┤ H ├┤ H ├┤ X ├┤ H ├┤ X ├»\n",
              "«     └─────────────────────┘└───┘└───┘└───┘└───┘└───┘└───┘└───┘»\n",
              "«c: 2/══════════════════════════════════════════════════════════»\n",
              "«                                                               »\n",
              "«                                                                    »\n",
              "«q_0: ───────────────────────────────────────────────────────────────»\n",
              "«                                                                    »\n",
              "«q_1: ───────────────────────────────────────────────────────────────»\n",
              "«                                ┌────────────┐                      »\n",
              "«q_2: ──────────■─────────────■──┤ U1(-2.615) ├──────────■───────────»\n",
              "«               │             │  └────────────┘          │           »\n",
              "«q_3: ──────────┼─────────────┼──────────────────────────┼───────────»\n",
              "«               │             │                          │           »\n",
              "«q_4: ──────────┼─────────────┼──────────────────────────┼───────────»\n",
              "«     ┌─────────┴──────────┐  │                ┌─────────┴──────────┐»\n",
              "«q_5: ┤ U3(0.178,π/2,-π/2) ├──■────────────────┤ U3(1.963,π/2,-π/2) ├»\n",
              "«     └────────────────────┘┌─┴─┐              └────────────────────┘»\n",
              "«q_6: ──────────────────────┤ X ├────────────────────────────────────»\n",
              "«                           └───┘                                    »\n",
              "«c: 2/═══════════════════════════════════════════════════════════════»\n",
              "«                                                                    »\n",
              "«                                                                              »\n",
              "«q_0: ─────────────────────────────────────────────────────────────────────────»\n",
              "«                                                                              »\n",
              "«q_1: ─────────────────────────────────────────────────────────────────────────»\n",
              "«     ┌────────────┐                                                           »\n",
              "«q_2: ┤ U1(-1.115) ├──────────■─────────────────────■──────────────────■───────»\n",
              "«     └────────────┘          │                     │                  │       »\n",
              "«q_3: ────────────────────────┼─────────────────────┼──────────────────┼───────»\n",
              "«                             │                     │                  │       »\n",
              "«q_4: ────────────────────────┼─────────────────────┼──────────────────┼───────»\n",
              "«                             │                     │                  │       »\n",
              "«q_5: ────────────────────────┼─────────────────────┼──────────────────■───────»\n",
              "«                   ┌─────────┴──────────┐┌─────────┴──────────┐┌───┐┌─┴─┐┌───┐»\n",
              "«q_6: ──────────────┤ U3(π/2,3π/2,-3π/2) ├┤ U3(1.963,π/2,-π/2) ├┤ H ├┤ X ├┤ H ├»\n",
              "«                   └────────────────────┘└────────────────────┘└───┘└───┘└───┘»\n",
              "«c: 2/═════════════════════════════════════════════════════════════════════════»\n",
              "«                                                                              »\n",
              "«                                                                 »\n",
              "«q_0: ────────────────────────────────────────────────────────────»\n",
              "«                                                    ┌───────────┐»\n",
              "«q_1: ───────■─────────■────────────■─────────────■──┤ U1(0.589) ├»\n",
              "«            │         │            │             │  └───────────┘»\n",
              "«q_2: ───────┼─────────┼────────────┼─────────────┼───────────────»\n",
              "«            │         │            │             │               »\n",
              "«q_3: ───────┼─────────┼────────────┼─────────────┼───────────────»\n",
              "«            │         │            │             │               »\n",
              "«q_4: ───────┼─────────┼────────────┼─────────────┼───────────────»\n",
              "«            │         │  ┌─────────┴──────────┐  │               »\n",
              "«q_5: ───────■─────────■──┤ U3(0.196,π/2,-π/2) ├──■───────────────»\n",
              "«     ┌───┐┌─┴─┐┌───┐┌─┴─┐└────────────────────┘┌─┴─┐             »\n",
              "«q_6: ┤ H ├┤ X ├┤ H ├┤ X ├──────────────────────┤ X ├─────────────»\n",
              "«     └───┘└───┘└───┘└───┘                      └───┘             »\n",
              "«c: 2/════════════════════════════════════════════════════════════»\n",
              "«                                                                 »\n",
              "«                                                              »\n",
              "«q_0: ─────────────────────────────────────────────────────────»\n",
              "«                           ┌───────────┐                      »\n",
              "«q_1: ──────────■───────────┤ U1(0.379) ├──────────■───────────»\n",
              "«               │           └───────────┘          │           »\n",
              "«q_2: ──────────┼──────────────────────────────────┼───────────»\n",
              "«               │                                  │           »\n",
              "«q_3: ──────────┼──────────────────────────────────┼───────────»\n",
              "«               │                                  │           »\n",
              "«q_4: ──────────┼──────────────────────────────────┼───────────»\n",
              "«     ┌─────────┴──────────┐                       │           »\n",
              "«q_5: ┤ U3(0.981,π/2,-π/2) ├───────────────────────┼───────────»\n",
              "«     └────────────────────┘             ┌─────────┴──────────┐»\n",
              "«q_6: ───────────────────────────────────┤ U3(π/2,3π/2,-3π/2) ├»\n",
              "«                                        └────────────────────┘»\n",
              "«c: 2/═════════════════════════════════════════════════════════»\n",
              "«                                                              »\n",
              "«                                                \n",
              "«q_0: ───────────────────────────────────────────\n",
              "«                                                \n",
              "«q_1: ──────────■──────────────────■─────────────\n",
              "«               │                  │             \n",
              "«q_2: ──────────┼──────────────────┼─────────────\n",
              "«               │                  │             \n",
              "«q_3: ──────────┼──────────────────┼─────────────\n",
              "«               │                  │             \n",
              "«q_4: ──────────┼──────────────────┼─────────────\n",
              "«               │                  │       ┌─┐   \n",
              "«q_5: ──────────┼──────────────────■───────┤M├───\n",
              "«     ┌─────────┴──────────┐┌───┐┌─┴─┐┌───┐└╥┘┌─┐\n",
              "«q_6: ┤ U3(0.196,π/2,-π/2) ├┤ H ├┤ X ├┤ H ├─╫─┤M├\n",
              "«     └────────────────────┘└───┘└───┘└───┘ ║ └╥┘\n",
              "«c: 2/══════════════════════════════════════╩══╩═\n",
              "«                                           0  1 </pre>"
            ],
            "text/plain": [
              "           ░       ░                                                          »\n",
              "q_0: ──────░───────░──────────────────────────────────────────────────────────»\n",
              "           ░       ░ ┌───┐                                                    »\n",
              "q_1: ──────░───────░─┤ H ├──■─────────────────■────────────────────■──────────»\n",
              "           ░       ░ ├───┤  │                 │                    │          »\n",
              "q_2: ──────░───────░─┤ H ├──┼─────────────────┼────────────────────┼──────────»\n",
              "           ░       ░ ├───┤  │                 │                    │          »\n",
              "q_3: ──────░───────░─┤ H ├──┼─────────────────┼────────────────────┼──────────»\n",
              "           ░       ░ ├───┤  │                 │                    │          »\n",
              "q_4: ──────░───────░─┤ H ├──┼─────────────────┼────────────────────┼──────────»\n",
              "     ┌───┐ ░       ░ └───┘  │                 │                    │          »\n",
              "q_5: ┤ H ├─░───────░────────■─────────────────┼────────────────────┼──────────»\n",
              "     └───┘ ░ ┌───┐ ░ ┌───┐┌─┴─┐┌───┐┌─────────┴──────────┐┌────────┴─────────┐»\n",
              "q_6: ──────░─┤ H ├─░─┤ H ├┤ X ├┤ H ├┤ U3(0.196,-π/2,π/2) ├┤ U3(π/2,π/2,-π/2) ├»\n",
              "           ░ └───┘ ░ └───┘└───┘└───┘└────────────────────┘└──────────────────┘»\n",
              "c: 2/═════════════════════════════════════════════════════════════════════════»\n",
              "                                                                              »\n",
              "«                                                          »\n",
              "«q_0: ─────────────────────────────────────────────────────»\n",
              "«     ┌───────────┐                      ┌───────────┐     »\n",
              "«q_1: ┤ U1(0.379) ├──────────■───────────┤ U1(0.589) ├──■──»\n",
              "«     └───────────┘          │           └───────────┘  │  »\n",
              "«q_2: ───────────────────────┼──────────────────────────┼──»\n",
              "«                            │                          │  »\n",
              "«q_3: ───────────────────────┼──────────────────────────┼──»\n",
              "«                            │                          │  »\n",
              "«q_4: ───────────────────────┼──────────────────────────┼──»\n",
              "«                  ┌─────────┴──────────┐               │  »\n",
              "«q_5: ─────────────┤ U3(0.981,-π/2,π/2) ├───────────────■──»\n",
              "«                  └────────────────────┘             ┌─┴─┐»\n",
              "«q_6: ────────────────────────────────────────────────┤ X ├»\n",
              "«                                                     └───┘»\n",
              "«c: 2/═════════════════════════════════════════════════════»\n",
              "«                                                          »\n",
              "«                                                              »\n",
              "«q_0: ─────────────────────────────────────────────────────────»\n",
              "«                                          ┌───┐               »\n",
              "«q_1: ──────────■─────────────■─────────■──┤ H ├───────────────»\n",
              "«               │             │         │  └───┘               »\n",
              "«q_2: ──────────┼─────────────┼─────────┼──────────────■───────»\n",
              "«               │             │         │              │       »\n",
              "«q_3: ──────────┼─────────────┼─────────┼──────────────┼───────»\n",
              "«               │             │         │              │       »\n",
              "«q_4: ──────────┼─────────────┼─────────┼──────────────┼───────»\n",
              "«     ┌─────────┴──────────┐  │         │              │       »\n",
              "«q_5: ┤ U3(0.196,-π/2,π/2) ├──■─────────■──────────────■───────»\n",
              "«     └────────────────────┘┌─┴─┐┌───┐┌─┴─┐┌───┐┌───┐┌─┴─┐┌───┐»\n",
              "«q_6: ──────────────────────┤ X ├┤ H ├┤ X ├┤ H ├┤ H ├┤ X ├┤ H ├»\n",
              "«                           └───┘└───┘└───┘└───┘└───┘└───┘└───┘»\n",
              "«c: 2/═════════════════════════════════════════════════════════»\n",
              "«                                                              »\n",
              "«                                                            »\n",
              "«q_0: ───────────────────────────────────────────────────────»\n",
              "«                                                            »\n",
              "«q_1: ───────────────────────────────────────────────────────»\n",
              "«                                               ┌───────────┐»\n",
              "«q_2: ──────────■────────────────────■──────────┤ U1(1.115) ├»\n",
              "«               │                    │          └───────────┘»\n",
              "«q_3: ──────────┼────────────────────┼───────────────────────»\n",
              "«               │                    │                       »\n",
              "«q_4: ──────────┼────────────────────┼───────────────────────»\n",
              "«               │                    │                       »\n",
              "«q_5: ──────────┼────────────────────┼───────────────────────»\n",
              "«     ┌─────────┴──────────┐┌────────┴─────────┐             »\n",
              "«q_6: ┤ U3(1.963,-π/2,π/2) ├┤ U3(π/2,π/2,-π/2) ├─────────────»\n",
              "«     └────────────────────┘└──────────────────┘             »\n",
              "«c: 2/═══════════════════════════════════════════════════════»\n",
              "«                                                            »\n",
              "«                                                                             »\n",
              "«q_0: ────────────────────────────────────────────────────────────────────────»\n",
              "«                                                                             »\n",
              "«q_1: ────────────────────────────────────────────────────────────────────────»\n",
              "«                           ┌───────────┐                                     »\n",
              "«q_2: ──────────■───────────┤ U1(2.615) ├──■────────────■─────────────■───────»\n",
              "«               │           └───────────┘  │            │             │       »\n",
              "«q_3: ──────────┼──────────────────────────┼────────────┼─────────────┼───────»\n",
              "«               │                          │            │             │       »\n",
              "«q_4: ──────────┼──────────────────────────┼────────────┼─────────────┼───────»\n",
              "«     ┌─────────┴──────────┐               │  ┌─────────┴──────────┐  │       »\n",
              "«q_5: ┤ U3(1.963,-π/2,π/2) ├───────────────■──┤ U3(0.178,-π/2,π/2) ├──■───────»\n",
              "«     └────────────────────┘             ┌─┴─┐└────────────────────┘┌─┴─┐┌───┐»\n",
              "«q_6: ───────────────────────────────────┤ X ├──────────────────────┤ X ├┤ H ├»\n",
              "«                                        └───┘                      └───┘└───┘»\n",
              "«c: 2/════════════════════════════════════════════════════════════════════════»\n",
              "«                                                                             »\n",
              "«                                                                              »\n",
              "«q_0: ─────────────────────────────────────────────────────────────────────────»\n",
              "«                                                                              »\n",
              "«q_1: ──────■──────────────────────────────────────────────────────────────────»\n",
              "«           │U1(π/2) ┌───┐                                                     »\n",
              "«q_2: ──■───■────────┤ H ├─────────────────────────────────────────────────────»\n",
              "«       │            └───┘                                                     »\n",
              "«q_3: ──┼───────────────────■──────────────────■────────────────────■──────────»\n",
              "«       │                   │                  │                    │          »\n",
              "«q_4: ──┼───────────────────┼──────────────────┼────────────────────┼──────────»\n",
              "«       │                   │                  │                    │          »\n",
              "«q_5: ──■───────────────────■──────────────────┼────────────────────┼──────────»\n",
              "«     ┌─┴─┐  ┌───┐   ┌───┐┌─┴─┐┌───┐┌──────────┴──────────┐┌────────┴─────────┐»\n",
              "«q_6: ┤ X ├──┤ H ├───┤ H ├┤ X ├┤ H ├┤ U3(-0.785,-π/2,π/2) ├┤ U3(π/2,π/2,-π/2) ├»\n",
              "«     └───┘  └───┘   └───┘└───┘└───┘└─────────────────────┘└──────────────────┘»\n",
              "«c: 2/═════════════════════════════════════════════════════════════════════════»\n",
              "«                                                                              »\n",
              "«                                                          »\n",
              "«q_0: ─────────────────────────────────────────────────────»\n",
              "«                                                          »\n",
              "«q_1: ─────────────────────────────────────────────────────»\n",
              "«                                                          »\n",
              "«q_2: ─────────────────────────────────────────────────────»\n",
              "«     ┌───────────┐                      ┌───────────┐     »\n",
              "«q_3: ┤ U1(1.017) ├──────────■───────────┤ U1(2.517) ├──■──»\n",
              "«     └───────────┘          │           └───────────┘  │  »\n",
              "«q_4: ───────────────────────┼──────────────────────────┼──»\n",
              "«                  ┌─────────┴──────────┐               │  »\n",
              "«q_5: ─────────────┤ U3(3.927,-π/2,π/2) ├───────────────■──»\n",
              "«                  └────────────────────┘             ┌─┴─┐»\n",
              "«q_6: ────────────────────────────────────────────────┤ X ├»\n",
              "«                                                     └───┘»\n",
              "«c: 2/═════════════════════════════════════════════════════»\n",
              "«                                                          »\n",
              "«                                                                        »\n",
              "«q_0: ───────────────────────────────────────────────────────────────────»\n",
              "«                                                                        »\n",
              "«q_1: ──────────────────────────────────────■────────────────────────────»\n",
              "«                                           │                            »\n",
              "«q_2: ──────────────────────────────────────┼─────────■──────────────────»\n",
              "«                                           │U1(π/4)  │U1(π/2) ┌───┐     »\n",
              "«q_3: ──────────■─────────────■─────────■───■─────────■────────┤ H ├─────»\n",
              "«               │             │         │                      └───┘     »\n",
              "«q_4: ──────────┼─────────────┼─────────┼────────────────────────■───────»\n",
              "«     ┌─────────┴──────────┐  │         │                        │       »\n",
              "«q_5: ┤ U3(2.356,-π/2,π/2) ├──■─────────■────────────────────────■───────»\n",
              "«     └────────────────────┘┌─┴─┐┌───┐┌─┴─┐  ┌───┐     ┌───┐   ┌─┴─┐┌───┐»\n",
              "«q_6: ──────────────────────┤ X ├┤ H ├┤ X ├──┤ H ├─────┤ H ├───┤ X ├┤ H ├»\n",
              "«                           └───┘└───┘└───┘  └───┘     └───┘   └───┘└───┘»\n",
              "«c: 2/═══════════════════════════════════════════════════════════════════»\n",
              "«                                                                        »\n",
              "«                                                                 »\n",
              "«q_0: ────────────────────────────────────────────────────────────»\n",
              "«                                                                 »\n",
              "«q_1: ────────────────────────────────────────────────────────────»\n",
              "«                                                                 »\n",
              "«q_2: ────────────────────────────────────────────────────────────»\n",
              "«                                                                 »\n",
              "«q_3: ────────────────────────────────────────────────────────────»\n",
              "«                                                    ┌───────────┐»\n",
              "«q_4: ─────────────■──────────────────────■──────────┤ U1(-0.75) ├»\n",
              "«                  │                      │          └───────────┘»\n",
              "«q_5: ─────────────┼──────────────────────┼───────────────────────»\n",
              "«     ┌────────────┴────────────┐┌────────┴─────────┐             »\n",
              "«q_6: ┤ U3(-9.014e-09,-π/2,π/2) ├┤ U3(π/2,π/2,-π/2) ├─────────────»\n",
              "«     └─────────────────────────┘└──────────────────┘             »\n",
              "«c: 2/════════════════════════════════════════════════════════════»\n",
              "«                                                                 »\n",
              "«                                                                             »\n",
              "«q_0: ────────────────────────────────────────────────────────────────────────»\n",
              "«                                                                             »\n",
              "«q_1: ────────────────────────────────────────────────────────────────────────»\n",
              "«                                                                             »\n",
              "«q_2: ────────────────────────────────────────────────────────────────────────»\n",
              "«                                                                             »\n",
              "«q_3: ────────────────────────────────────────────────────────────────────────»\n",
              "«                           ┌──────────┐                                      »\n",
              "«q_4: ──────────■───────────┤ U1(0.75) ├──■─────────────■─────────────■───────»\n",
              "«     ┌─────────┴──────────┐└──────────┘  │  ┌──────────┴──────────┐  │       »\n",
              "«q_5: ┤ U3(1.571,-π/2,π/2) ├──────────────■──┤ U3(-1.571,-π/2,π/2) ├──■───────»\n",
              "«     └────────────────────┘            ┌─┴─┐└─────────────────────┘┌─┴─┐┌───┐»\n",
              "«q_6: ──────────────────────────────────┤ X ├───────────────────────┤ X ├┤ H ├»\n",
              "«                                       └───┘                       └───┘└───┘»\n",
              "«c: 2/════════════════════════════════════════════════════════════════════════»\n",
              "«                                                                             »\n",
              "«                    ┌────────────┐┌────────────┐┌───────────┐┌─────────────┐»\n",
              "«q_0: ───────────────┤ U3(4π,0,0) ├┤ U3(2π,0,0) ├┤ U3(π,0,0) ├┤ U3(π/2,0,0) ├»\n",
              "«                    └─────┬──────┘└─────┬──────┘└─────┬─────┘└──────┬──────┘»\n",
              "«q_1: ──────■──────────────■─────────────┼─────────────┼─────────────┼───────»\n",
              "«           │                            │             │             │       »\n",
              "«q_2: ──────┼───────────■────────────────■─────────────┼─────────────┼───────»\n",
              "«           │           │                              │             │       »\n",
              "«q_3: ──────┼───────────┼─────────────■────────────────■─────────────┼───────»\n",
              "«           │U1(π/8)    │U1(π/4)      │U1(π/2)       ┌───┐           │       »\n",
              "«q_4: ──■───■───────────■─────────────■──────────────┤ H ├───────────■───────»\n",
              "«       │                                            └───┘                   »\n",
              "«q_5: ──■────────────────────────────────────────────────────────────────────»\n",
              "«     ┌─┴─┐  ┌───┐       ┌───┐                                               »\n",
              "«q_6: ┤ X ├──┤ H ├───────┤ H ├───────────────────────────────────────────────»\n",
              "«     └───┘  └───┘       └───┘                                               »\n",
              "«c: 2/═══════════════════════════════════════════════════════════════════════»\n",
              "«                                                                            »\n",
              "«                                                                           »\n",
              "«q_0: ──────────────────────────────────────────────────────────────────────»\n",
              "«                                                                           »\n",
              "«q_1: ────────────────────────────────────────────■───────────────■─────────»\n",
              "«                                                 │         ┌───┐ │         »\n",
              "«q_2: ──────────────────────■──────────■──────────┼─────────┤ H ├─┼─────────»\n",
              "«                     ┌───┐ │          │U1(-π/2)  │         └───┘ │U1(-π/4) »\n",
              "«q_3: ──────■─────────┤ H ├─┼──────────■──────────┼───────────────■─────────»\n",
              "«     ┌───┐ │U1(-π/2) └───┘ │U1(-π/4)             │U1(-π/8)                 »\n",
              "«q_4: ┤ H ├─■───────────────■─────────────────────■───────────■─────────────»\n",
              "«     └───┘                                                   │             »\n",
              "«q_5: ────────────────────────────────────────────────────────■─────────────»\n",
              "«                                                           ┌─┴─┐   ┌───┐   »\n",
              "«q_6: ──────────────────────────────────────────────────────┤ X ├───┤ H ├───»\n",
              "«                                                           └───┘   └───┘   »\n",
              "«c: 2/══════════════════════════════════════════════════════════════════════»\n",
              "«                                                                           »\n",
              "«                                                                              »\n",
              "«q_0: ─────────────────────────────────────────────────────────────────────────»\n",
              "«                         ┌───┐                                                »\n",
              "«q_1: ─■──────────────────┤ H ├────────────────────────────────────────────────»\n",
              "«      │U1(-π/2)          └───┘                                                »\n",
              "«q_2: ─■───────────────────────────────────────────────────────────────────────»\n",
              "«                                                                              »\n",
              "«q_3: ─────────────────────────────────────────────────────────────────────────»\n",
              "«                                            ┌──────────┐                      »\n",
              "«q_4: ─────■────────────────■─────────────■──┤ U1(0.75) ├──────────■───────────»\n",
              "«          │     ┌──────────┴──────────┐  │  └──────────┘┌─────────┴──────────┐»\n",
              "«q_5: ─────■─────┤ U3(-1.571,-π/2,π/2) ├──■──────────────┤ U3(1.571,-π/2,π/2) ├»\n",
              "«        ┌─┴─┐   └─────────────────────┘┌─┴─┐            └────────────────────┘»\n",
              "«q_6: ───┤ X ├──────────────────────────┤ X ├──────────────────────────────────»\n",
              "«        └───┘                          └───┘                                  »\n",
              "«c: 2/═════════════════════════════════════════════════════════════════════════»\n",
              "«                                                                              »\n",
              "«                                                                           »\n",
              "«q_0: ──────────────────────────────────────────────────────────────────────»\n",
              "«                                                                           »\n",
              "«q_1: ──────────────────────────────────────────────────────────────────────»\n",
              "«                                                                           »\n",
              "«q_2: ──────────────────────────────────────────────────────────────────────»\n",
              "«                                                                           »\n",
              "«q_3: ──────────────────────────────────────────────────────────────────────»\n",
              "«     ┌───────────┐                                                         »\n",
              "«q_4: ┤ U1(-0.75) ├─────────■───────────────────────■────────────────────■──»\n",
              "«     └───────────┘         │                       │                    │  »\n",
              "«q_5: ──────────────────────┼───────────────────────┼────────────────────■──»\n",
              "«                  ┌────────┴─────────┐┌────────────┴────────────┐┌───┐┌─┴─┐»\n",
              "«q_6: ─────────────┤ U3(π/2,π/2,-π/2) ├┤ U3(-9.014e-09,-π/2,π/2) ├┤ H ├┤ X ├»\n",
              "«                  └──────────────────┘└─────────────────────────┘└───┘└───┘»\n",
              "«c: 2/══════════════════════════════════════════════════════════════════════»\n",
              "«                                                                           »\n",
              "«                                                                       »\n",
              "«q_0: ──────────────────────────────────────────────────────────────────»\n",
              "«                                                                       »\n",
              "«q_1: ──────────────────────────────────────────────────────────────────»\n",
              "«                                                                       »\n",
              "«q_2: ──────────────────────────────────────────────────────────────────»\n",
              "«                                                         ┌────────────┐»\n",
              "«q_3: ────────────■─────────■────────────■─────────────■──┤ U1(-2.517) ├»\n",
              "«                 │         │            │             │  └────────────┘»\n",
              "«q_4: ────────────┼─────────┼────────────┼─────────────┼────────────────»\n",
              "«                 │         │  ┌─────────┴──────────┐  │                »\n",
              "«q_5: ────────────■─────────■──┤ U3(2.356,π/2,-π/2) ├──■────────────────»\n",
              "«     ┌───┐┌───┐┌─┴─┐┌───┐┌─┴─┐└────────────────────┘┌─┴─┐              »\n",
              "«q_6: ┤ H ├┤ H ├┤ X ├┤ H ├┤ X ├──────────────────────┤ X ├──────────────»\n",
              "«     └───┘└───┘└───┘└───┘└───┘                      └───┘              »\n",
              "«c: 2/══════════════════════════════════════════════════════════════════»\n",
              "«                                                                       »\n",
              "«                                                               »\n",
              "«q_0: ──────────────────────────────────────────────────────────»\n",
              "«                                                               »\n",
              "«q_1: ──────────────────────────────────────────────────────────»\n",
              "«                                                               »\n",
              "«q_2: ──────────────────────────────────────────────────────────»\n",
              "«                           ┌────────────┐                      »\n",
              "«q_3: ──────────■───────────┤ U1(-1.017) ├──────────■───────────»\n",
              "«               │           └────────────┘          │           »\n",
              "«q_4: ──────────┼───────────────────────────────────┼───────────»\n",
              "«     ┌─────────┴──────────┐                        │           »\n",
              "«q_5: ┤ U3(3.927,π/2,-π/2) ├────────────────────────┼───────────»\n",
              "«     └────────────────────┘              ┌─────────┴──────────┐»\n",
              "«q_6: ────────────────────────────────────┤ U3(π/2,3π/2,-3π/2) ├»\n",
              "«                                         └────────────────────┘»\n",
              "«c: 2/══════════════════════════════════════════════════════════»\n",
              "«                                                               »\n",
              "«                                                               »\n",
              "«q_0: ──────────────────────────────────────────────────────────»\n",
              "«                                                               »\n",
              "«q_1: ──────────────────────────────────────────────────────────»\n",
              "«                                                               »\n",
              "«q_2: ─────────────────────────────────────────────■─────────■──»\n",
              "«                                                  │         │  »\n",
              "«q_3: ───────────■──────────────────■──────────────┼─────────┼──»\n",
              "«                │                  │              │         │  »\n",
              "«q_4: ───────────┼──────────────────┼──────────────┼─────────┼──»\n",
              "«                │                  │              │         │  »\n",
              "«q_5: ───────────┼──────────────────■──────────────■─────────■──»\n",
              "«     ┌──────────┴──────────┐┌───┐┌─┴─┐┌───┐┌───┐┌─┴─┐┌───┐┌─┴─┐»\n",
              "«q_6: ┤ U3(-0.785,π/2,-π/2) ├┤ H ├┤ X ├┤ H ├┤ H ├┤ X ├┤ H ├┤ X ├»\n",
              "«     └─────────────────────┘└───┘└───┘└───┘└───┘└───┘└───┘└───┘»\n",
              "«c: 2/══════════════════════════════════════════════════════════»\n",
              "«                                                               »\n",
              "«                                                                    »\n",
              "«q_0: ───────────────────────────────────────────────────────────────»\n",
              "«                                                                    »\n",
              "«q_1: ───────────────────────────────────────────────────────────────»\n",
              "«                                ┌────────────┐                      »\n",
              "«q_2: ──────────■─────────────■──┤ U1(-2.615) ├──────────■───────────»\n",
              "«               │             │  └────────────┘          │           »\n",
              "«q_3: ──────────┼─────────────┼──────────────────────────┼───────────»\n",
              "«               │             │                          │           »\n",
              "«q_4: ──────────┼─────────────┼──────────────────────────┼───────────»\n",
              "«     ┌─────────┴──────────┐  │                ┌─────────┴──────────┐»\n",
              "«q_5: ┤ U3(0.178,π/2,-π/2) ├──■────────────────┤ U3(1.963,π/2,-π/2) ├»\n",
              "«     └────────────────────┘┌─┴─┐              └────────────────────┘»\n",
              "«q_6: ──────────────────────┤ X ├────────────────────────────────────»\n",
              "«                           └───┘                                    »\n",
              "«c: 2/═══════════════════════════════════════════════════════════════»\n",
              "«                                                                    »\n",
              "«                                                                              »\n",
              "«q_0: ─────────────────────────────────────────────────────────────────────────»\n",
              "«                                                                              »\n",
              "«q_1: ─────────────────────────────────────────────────────────────────────────»\n",
              "«     ┌────────────┐                                                           »\n",
              "«q_2: ┤ U1(-1.115) ├──────────■─────────────────────■──────────────────■───────»\n",
              "«     └────────────┘          │                     │                  │       »\n",
              "«q_3: ────────────────────────┼─────────────────────┼──────────────────┼───────»\n",
              "«                             │                     │                  │       »\n",
              "«q_4: ────────────────────────┼─────────────────────┼──────────────────┼───────»\n",
              "«                             │                     │                  │       »\n",
              "«q_5: ────────────────────────┼─────────────────────┼──────────────────■───────»\n",
              "«                   ┌─────────┴──────────┐┌─────────┴──────────┐┌───┐┌─┴─┐┌───┐»\n",
              "«q_6: ──────────────┤ U3(π/2,3π/2,-3π/2) ├┤ U3(1.963,π/2,-π/2) ├┤ H ├┤ X ├┤ H ├»\n",
              "«                   └────────────────────┘└────────────────────┘└───┘└───┘└───┘»\n",
              "«c: 2/═════════════════════════════════════════════════════════════════════════»\n",
              "«                                                                              »\n",
              "«                                                                 »\n",
              "«q_0: ────────────────────────────────────────────────────────────»\n",
              "«                                                    ┌───────────┐»\n",
              "«q_1: ───────■─────────■────────────■─────────────■──┤ U1(0.589) ├»\n",
              "«            │         │            │             │  └───────────┘»\n",
              "«q_2: ───────┼─────────┼────────────┼─────────────┼───────────────»\n",
              "«            │         │            │             │               »\n",
              "«q_3: ───────┼─────────┼────────────┼─────────────┼───────────────»\n",
              "«            │         │            │             │               »\n",
              "«q_4: ───────┼─────────┼────────────┼─────────────┼───────────────»\n",
              "«            │         │  ┌─────────┴──────────┐  │               »\n",
              "«q_5: ───────■─────────■──┤ U3(0.196,π/2,-π/2) ├──■───────────────»\n",
              "«     ┌───┐┌─┴─┐┌───┐┌─┴─┐└────────────────────┘┌─┴─┐             »\n",
              "«q_6: ┤ H ├┤ X ├┤ H ├┤ X ├──────────────────────┤ X ├─────────────»\n",
              "«     └───┘└───┘└───┘└───┘                      └───┘             »\n",
              "«c: 2/════════════════════════════════════════════════════════════»\n",
              "«                                                                 »\n",
              "«                                                              »\n",
              "«q_0: ─────────────────────────────────────────────────────────»\n",
              "«                           ┌───────────┐                      »\n",
              "«q_1: ──────────■───────────┤ U1(0.379) ├──────────■───────────»\n",
              "«               │           └───────────┘          │           »\n",
              "«q_2: ──────────┼──────────────────────────────────┼───────────»\n",
              "«               │                                  │           »\n",
              "«q_3: ──────────┼──────────────────────────────────┼───────────»\n",
              "«               │                                  │           »\n",
              "«q_4: ──────────┼──────────────────────────────────┼───────────»\n",
              "«     ┌─────────┴──────────┐                       │           »\n",
              "«q_5: ┤ U3(0.981,π/2,-π/2) ├───────────────────────┼───────────»\n",
              "«     └────────────────────┘             ┌─────────┴──────────┐»\n",
              "«q_6: ───────────────────────────────────┤ U3(π/2,3π/2,-3π/2) ├»\n",
              "«                                        └────────────────────┘»\n",
              "«c: 2/═════════════════════════════════════════════════════════»\n",
              "«                                                              »\n",
              "«                                                \n",
              "«q_0: ───────────────────────────────────────────\n",
              "«                                                \n",
              "«q_1: ──────────■──────────────────■─────────────\n",
              "«               │                  │             \n",
              "«q_2: ──────────┼──────────────────┼─────────────\n",
              "«               │                  │             \n",
              "«q_3: ──────────┼──────────────────┼─────────────\n",
              "«               │                  │             \n",
              "«q_4: ──────────┼──────────────────┼─────────────\n",
              "«               │                  │       ┌─┐   \n",
              "«q_5: ──────────┼──────────────────■───────┤M├───\n",
              "«     ┌─────────┴──────────┐┌───┐┌─┴─┐┌───┐└╥┘┌─┐\n",
              "«q_6: ┤ U3(0.196,π/2,-π/2) ├┤ H ├┤ X ├┤ H ├─╫─┤M├\n",
              "«     └────────────────────┘└───┘└───┘└───┘ ║ └╥┘\n",
              "«c: 2/══════════════════════════════════════╩══╩═\n",
              "«                                           0  1 "
            ]
          },
          "metadata": {
            "tags": []
          },
          "execution_count": 21
        }
      ]
    },
    {
      "cell_type": "code",
      "metadata": {
        "colab": {
          "base_uri": "https://localhost:8080/",
          "height": 426
        },
        "id": "9XUtGhJrmxiC",
        "outputId": "420be401-3e5c-4a42-b714-1840c8ad1d0b"
      },
      "source": [
        "def plothistogram(u, shots_val):\n",
        "  su_m = np.zeros(4)\n",
        "  for i in range(0,len(u)):\n",
        "    su_m = np.add(su_m,u[i]*1/2**(i))\n",
        "  su_m = (2**3)*su_m\n",
        "  tot =0\n",
        "  for j in range(0,len(su_m)):\n",
        "    tot = tot + abs(su_m[j])\n",
        "\n",
        "  probs = (tot/shots_val)*abs(su_m)\n",
        "  probs = np.around(probs, decimals =4)\n",
        "\n",
        "  pdata2 = {'00':probs[0],'01':probs[1], '10':probs[2], '11':probs[3]} \n",
        "  print(pdata2)\n",
        "  fig = plt.figure(figsize = (5,5))\n",
        "  ax = fig.add_axes([0,0,1,1])\n",
        "\n",
        "  ax.bar(list(pdata2.keys()), list(pdata2.values()), width = 0.6, color = (0.3,0.5,1.0,0.9))\n",
        "  xs = list(pdata2.keys())\n",
        "  ys = list(pdata2.values())\n",
        "\n",
        "  ax.yaxis.grid(b = True, color = 'grey', linestyle = '--', linewidth = 1, alpha =0.2)\n",
        "  plt.ylabel('Probabilities', fontsize = 15)\n",
        "\n",
        "  plt.show()\n",
        "\n",
        "plothistogram(shots_val=1024)"
      ],
      "execution_count": null,
      "outputs": [
        {
          "output_type": "stream",
          "text": [
            "{'00': 0.0312, '01': 0.2188, '10': 0.3438, '11': 0.4062}\n"
          ],
          "name": "stdout"
        },
        {
          "output_type": "display_data",
          "data": {
            "image/png": "[encoded data removed]",
            "text/plain": [
              "<Figure size 360x360 with 1 Axes>"
            ]
          },
          "metadata": {
            "tags": [],
            "needs_background": "light"
          }
        }
      ]
    },
    {
      "cell_type": "markdown",
      "metadata": {
        "id": "taiA-auHIRPn"
      },
      "source": [
        "Mathematically the solution of the equation is $$ x = \\frac{1}{32}\\begin{bmatrix} -1 \\\\ 7\\\\ 11\\\\ 13 \\end{bmatrix}$$\n",
        "\n",
        "Measuring the $|1\\rangle$ state of Input register, i.e. qubit $q_6$ gives a solution of the form $$ x =\\frac{8\\pi}{2^r}\\sum_{j=1}^4 \\frac{1/2}{2^{j-1}}|u_j\\rangle$$ which should be proportional to the expected solution.\n",
        "\n",
        "The histogram gives the probabiltiy of each state \n",
        "\n",
        "Pr($|00\\rangle$) = 0.0312 \n",
        "Pr($|01\\rangle$) = 0.2188\n",
        "Pr($|10\\rangle$) = 0.3438\n",
        "Pr($|11\\rangle$) = 0.4062\n",
        "\n",
        "Clearly, $\\Sigma Pr = 1$\n",
        "\n",
        "The square roots of these Probabilities give the Amplitude, which are values proportinal to the vector elements of the required solution.\n",
        "\n",
        " $$ 0.0312\\times \\begin{bmatrix} 1 \\\\ 7\\\\ 11\\\\ 13 \\end{bmatrix}$$\n"
      ]
    }
  ]
}